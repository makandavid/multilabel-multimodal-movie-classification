{
 "cells": [
  {
   "cell_type": "markdown",
   "id": "87fc779a",
   "metadata": {},
   "source": [
    "## 1. Import biblioteka i definicija funkcija\n",
    "Prvo ćemo importovati sve potrebne biblioteke i definisati pomoćne funkcije\n",
    "za treniranje modela i evaluaciju performansi."
   ]
  },
  {
   "cell_type": "code",
   "execution_count": 31,
   "id": "fdebec87",
   "metadata": {},
   "outputs": [],
   "source": [
    "import os\n",
    "import pickle\n",
    "import joblib\n",
    "import numpy as np\n",
    "import pandas as pd\n",
    "from sklearn.model_selection import train_test_split\n",
    "from sklearn.metrics import f1_score, hamming_loss, accuracy_score\n",
    "from sklearn.naive_bayes import ComplementNB\n",
    "from sklearn.multiclass import OneVsRestClassifier\n",
    "from sklearn.preprocessing import StandardScaler\n",
    "from sklearn.neighbors import KNeighborsClassifier\n",
    "from scipy.sparse import save_npz, load_npz, csr_matrix"
   ]
  },
  {
   "cell_type": "markdown",
   "id": "d179fc27",
   "metadata": {},
   "source": [
    "### 1.1 Funkcije za text model (Naive Bayes)\n",
    "ComplementNB je pogodan za multi-label klasifikaciju sa neubalansiranim podacima."
   ]
  },
  {
   "cell_type": "code",
   "execution_count": 32,
   "id": "000f7b88",
   "metadata": {},
   "outputs": [],
   "source": [
    "def train_text_nb(X: csr_matrix, Y: np.ndarray):\n",
    "    \"\"\"Trenira Naive Bayes model za text klasifikaciju\"\"\"\n",
    "    model = OneVsRestClassifier(ComplementNB(alpha=0.5))\n",
    "    model.fit(X, Y)\n",
    "    return model\n",
    "\n",
    "def save_text_model(model: OneVsRestClassifier, path: str):\n",
    "    \"\"\"Čuva trenirani text model\"\"\"\n",
    "    joblib.dump(model, path)\n",
    "\n",
    "def load_text_model(path: str):\n",
    "    \"\"\"Učitava sačuvani text model\"\"\"\n",
    "    return joblib.load(path)"
   ]
  },
  {
   "cell_type": "markdown",
   "id": "9d6dbca1",
   "metadata": {},
   "source": [
    "### 1.2 Funkcije za image model (KNN)\n",
    "KNN sa Manhattan metrikom se koristi za klasifikaciju na osnovu vizuelnih karakteristika postera."
   ]
  },
  {
   "cell_type": "code",
   "execution_count": 33,
   "id": "b0811465",
   "metadata": {},
   "outputs": [],
   "source": [
    "def train_image_knn(X_features: np.ndarray, Y: np.ndarray, n_neighbors=5, metric='manhattan'):\n",
    "    \"\"\"Trenira KNN model za image klasifikaciju\"\"\"\n",
    "    scaler = StandardScaler()\n",
    "    X_scaled = scaler.fit_transform(X_features)\n",
    "    knn = KNeighborsClassifier(n_neighbors=n_neighbors, weights='distance', metric=metric)\n",
    "    model = OneVsRestClassifier(knn)\n",
    "    model.fit(X_scaled, Y)\n",
    "    return model, scaler\n",
    "\n",
    "def save_image_model(model: OneVsRestClassifier, path: str):\n",
    "    \"\"\"Čuva trenirani image model\"\"\"\n",
    "    joblib.dump(model, path)\n",
    "\n",
    "def load_image_model(path: str):\n",
    "    \"\"\"Učitava sačuvani image model\"\"\"\n",
    "    return joblib.load(path)"
   ]
  },
  {
   "cell_type": "markdown",
   "id": "966813b5",
   "metadata": {},
   "source": [
    "### 1.3 Funkcije za fusion model\n",
    "Late fusion kombinuje predikcije text i image modela."
   ]
  },
  {
   "cell_type": "code",
   "execution_count": 34,
   "id": "af8519be",
   "metadata": {},
   "outputs": [],
   "source": [
    "def late_fusion(text_probs: np.ndarray, image_probs: np.ndarray, alpha: float = 0.6):\n",
    "    \"\"\"\n",
    "    Kombinuje probability predikcije iz text i image modela\n",
    "    alpha: težina za text model (1-alpha za image model)\n",
    "    \"\"\"\n",
    "    return alpha * text_probs + (1 - alpha) * image_probs\n",
    "\n",
    "def predict_multilabel(probs: np.ndarray, threshold: float = 0.5):\n",
    "    \"\"\"Konvertuje probabilities u binarne predikcije na osnovu threshold-a\"\"\"\n",
    "    return (probs >= threshold).astype(int)"
   ]
  },
  {
   "cell_type": "markdown",
   "id": "010f1a7b",
   "metadata": {},
   "source": [
    "### 1.4 Funkcija za evaluaciju\n",
    "Standardne metrike za multi-label klasifikaciju: F1-score, Hamming loss i accuracy po labeli."
   ]
  },
  {
   "cell_type": "code",
   "execution_count": 35,
   "id": "9868b551",
   "metadata": {},
   "outputs": [],
   "source": [
    "def evaluate_model(y_true, y_pred, dataset_name=\"\"):\n",
    "    \"\"\"Evaluira model i prikazuje metrike\"\"\"\n",
    "    f1 = f1_score(y_true, y_pred, average=\"micro\", zero_division=0)\n",
    "    hamming = hamming_loss(y_true, y_pred)\n",
    "    acc_per_label = accuracy_score(y_true, y_pred)\n",
    "    \n",
    "    print(f\"\\n--- {dataset_name} metrics ---\")\n",
    "    print(f\"F1-score (micro): {f1:.4f}\")\n",
    "    print(f\"Hamming loss: {hamming:.4f}\")\n",
    "    print(f\"Accuracy per label: {acc_per_label:.4f}\")\n",
    "    \n",
    "    return f1, hamming, acc_per_label"
   ]
  },
  {
   "cell_type": "markdown",
   "id": "384bf46a",
   "metadata": {},
   "source": [
    "## 2. Treniranje Text Modela\n",
    "Učitavamo podatke, pripremamo TF-IDF features i treniramo Naive Bayes model.\n",
    "Pretpostavka je da su funkcije `clean_text`, `build_tfidf` i `prepare_labels` \n",
    "dostupne iz modula `src`."
   ]
  },
  {
   "cell_type": "code",
   "execution_count": 36,
   "id": "cf3ec7e4",
   "metadata": {},
   "outputs": [
    {
     "name": "stdout",
     "output_type": "stream",
     "text": [
      "Train size: 3565, Val size: 764, Test size: 764\n"
     ]
    }
   ],
   "source": [
    "from src.preprocessing.text_preproc import clean_text, build_tfidf\n",
    "from src.data.dataset import prepare_labels\n",
    "\n",
    "# Učitavanje podataka\n",
    "csv_path = \"data/processed/movies_valid.csv\"\n",
    "df = pd.read_csv(csv_path)\n",
    "df[\"overview\"] = df[\"overview\"].apply(clean_text)\n",
    "\n",
    "# Split podataka (70/15/15)\n",
    "train_df, temp_df = train_test_split(df, test_size=0.30, random_state=42)\n",
    "val_df, test_df = train_test_split(temp_df, test_size=0.50, random_state=42)\n",
    "\n",
    "print(f\"Train size: {len(train_df)}, Val size: {len(val_df)}, Test size: {len(test_df)}\")"
   ]
  },
  {
   "cell_type": "markdown",
   "id": "f880e1fa",
   "metadata": {},
   "source": [
    "### 2.1 Priprema labela i TF-IDF vektorizacija\n",
    "MultiLabelBinarizer transformiše žanrove u binarni format, a TF-IDF konvertuje tekst u numeričke features."
   ]
  },
  {
   "cell_type": "code",
   "execution_count": 37,
   "id": "0ab292b4",
   "metadata": {},
   "outputs": [
    {
     "name": "stdout",
     "output_type": "stream",
     "text": [
      "TF-IDF shape: (3565, 6739)\n",
      "Number of labels: 20\n"
     ]
    }
   ],
   "source": [
    "# Priprema labela\n",
    "y_train, mlb = prepare_labels(train_df, fit_mlb=True)\n",
    "y_val = prepare_labels(val_df, fit_mlb=False, mlb=mlb)\n",
    "y_test = prepare_labels(test_df, fit_mlb=False, mlb=mlb)\n",
    "\n",
    "# TF-IDF vektorizacija\n",
    "x_train_tfidf, vectorizer = build_tfidf(train_df[\"overview\"].fillna(\"\").tolist())\n",
    "x_val_tfidf = vectorizer.transform(val_df[\"overview\"].fillna(\"\").tolist())\n",
    "x_test_tfidf = vectorizer.transform(test_df[\"overview\"].fillna(\"\").tolist())\n",
    "\n",
    "print(f\"TF-IDF shape: {x_train_tfidf.shape}\")\n",
    "print(f\"Number of labels: {y_train.shape[1]}\")"
   ]
  },
  {
   "cell_type": "markdown",
   "id": "bbca3e89",
   "metadata": {},
   "source": [
    "### 2.2 Treniranje i evaluacija text modela"
   ]
  },
  {
   "cell_type": "code",
   "execution_count": 38,
   "id": "e576844d",
   "metadata": {},
   "outputs": [
    {
     "name": "stdout",
     "output_type": "stream",
     "text": [
      "\n",
      "--- Text Model - Validation metrics ---\n",
      "F1-score (micro): 0.4530\n",
      "Hamming loss: 0.1081\n",
      "Accuracy per label: 0.1309\n",
      "\n",
      "--- Text Model - Test metrics ---\n",
      "F1-score (micro): 0.4633\n",
      "Hamming loss: 0.1048\n",
      "Accuracy per label: 0.1531\n"
     ]
    },
    {
     "data": {
      "text/plain": [
       "(0.46329198793161247, 0.10477748691099477, 0.1531413612565445)"
      ]
     },
     "execution_count": 38,
     "metadata": {},
     "output_type": "execute_result"
    }
   ],
   "source": [
    "# Treniranje\n",
    "text_model = train_text_nb(x_train_tfidf, y_train)\n",
    "\n",
    "# Predikcije\n",
    "val_preds = text_model.predict(x_val_tfidf)\n",
    "test_preds = text_model.predict(x_test_tfidf)\n",
    "\n",
    "# Evaluacija\n",
    "evaluate_model(y_val, val_preds, \"Text Model - Validation\")\n",
    "evaluate_model(y_test, test_preds, \"Text Model - Test\")"
   ]
  },
  {
   "cell_type": "markdown",
   "id": "48805a26",
   "metadata": {},
   "source": [
    "### 2.3 Čuvanje text modela i features"
   ]
  },
  {
   "cell_type": "code",
   "execution_count": 39,
   "id": "ed07d8de",
   "metadata": {},
   "outputs": [
    {
     "name": "stdout",
     "output_type": "stream",
     "text": [
      "✓ Text model i features saved\n"
     ]
    }
   ],
   "source": [
    "os.makedirs(\"data/processed\", exist_ok=True)\n",
    "os.makedirs(\"models\", exist_ok=True)\n",
    "\n",
    "# Čuvanje TF-IDF features\n",
    "save_npz(\"data/processed/text_train_features.npz\", x_train_tfidf)\n",
    "save_npz(\"data/processed/text_val_features.npz\", x_val_tfidf)\n",
    "save_npz(\"data/processed/text_test_features.npz\", x_test_tfidf)\n",
    "\n",
    "# Čuvanje labela\n",
    "np.save(\"data/processed/y_train.npy\", y_train)\n",
    "np.save(\"data/processed/y_val.npy\", y_val)\n",
    "np.save(\"data/processed/y_test.npy\", y_test)\n",
    "\n",
    "# Čuvanje modela i transformera\n",
    "with open(\"data/processed/tfidf_vectorizer.pkl\", \"wb\") as f:\n",
    "    pickle.dump(vectorizer, f)\n",
    "with open(\"models/text_nb_model.pkl\", \"wb\") as f:\n",
    "    pickle.dump(text_model, f)\n",
    "joblib.dump(mlb, \"data/processed/mlb.pkl\")\n",
    "\n",
    "print(\"✓ Text model i features saved\")"
   ]
  },
  {
   "cell_type": "markdown",
   "id": "89221539",
   "metadata": {},
   "source": [
    "## 3. Treniranje Image Modela\n",
    "Ekstrakcija vizuelnih features iz postera filmova i treniranje KNN klasifikatora.\n",
    "Features se ekstrahuju pomoću pre-trained CNN modela."
   ]
  },
  {
   "cell_type": "code",
   "execution_count": 40,
   "id": "b0f08872",
   "metadata": {},
   "outputs": [
    {
     "name": "stdout",
     "output_type": "stream",
     "text": [
      "Datasets created: Train=3565, Val=764, Test=764\n"
     ]
    }
   ],
   "source": [
    "from src.data.dataset import PosterDataset\n",
    "from src.preprocessing.image_preproc import extract_features_from_dataset, get_transforms\n",
    "\n",
    "# Kreiranje dataseta\n",
    "train_dataset = PosterDataset(train_df, y_train, transforms=get_transforms(train=True))\n",
    "val_dataset = PosterDataset(val_df, y_val, transforms=get_transforms(train=False))\n",
    "test_dataset = PosterDataset(test_df, y_test, transforms=get_transforms(train=False))\n",
    "\n",
    "print(f\"Datasets created: Train={len(train_dataset)}, Val={len(val_dataset)}, Test={len(test_dataset)}\")"
   ]
  },
  {
   "cell_type": "markdown",
   "id": "57134735",
   "metadata": {},
   "source": [
    "### 3.1 Ekstrakcija image features\n",
    "Ova operacija može trajati duže jer prolazi kroz sve slike i ekstrahuje deep features."
   ]
  },
  {
   "cell_type": "code",
   "execution_count": 41,
   "id": "ccc2895f",
   "metadata": {},
   "outputs": [
    {
     "name": "stdout",
     "output_type": "stream",
     "text": [
      "Extracting image features...\n"
     ]
    },
    {
     "name": "stderr",
     "output_type": "stream",
     "text": [
      "Extracting color histograms: 100%|██████████| 3565/3565 [00:54<00:00, 65.08it/s]\n",
      "Extracting color histograms: 100%|██████████| 764/764 [00:07<00:00, 106.43it/s]\n",
      "Extracting color histograms: 100%|██████████| 764/764 [00:07<00:00, 105.91it/s]"
     ]
    },
    {
     "name": "stdout",
     "output_type": "stream",
     "text": [
      "Image features shape: (3565, 512)\n"
     ]
    },
    {
     "name": "stderr",
     "output_type": "stream",
     "text": [
      "\n"
     ]
    }
   ],
   "source": [
    "print(\"Extracting image features...\")\n",
    "x_train_img, y_train_img = extract_features_from_dataset(train_dataset)\n",
    "x_val_img, y_val_img = extract_features_from_dataset(val_dataset)\n",
    "x_test_img, y_test_img = extract_features_from_dataset(test_dataset)\n",
    "\n",
    "print(f\"Image features shape: {x_train_img.shape}\")"
   ]
  },
  {
   "cell_type": "markdown",
   "id": "c094f55e",
   "metadata": {},
   "source": [
    "### 3.2 Treniranje i evaluacija image modela"
   ]
  },
  {
   "cell_type": "code",
   "execution_count": 42,
   "id": "d8b5a878",
   "metadata": {},
   "outputs": [
    {
     "name": "stdout",
     "output_type": "stream",
     "text": [
      "\n",
      "--- Image Model - Validation metrics ---\n",
      "F1-score (micro): 0.2324\n",
      "Hamming loss: 0.1185\n",
      "Accuracy per label: 0.0720\n",
      "\n",
      "--- Image Model - Test metrics ---\n",
      "F1-score (micro): 0.2178\n",
      "Hamming loss: 0.1236\n",
      "Accuracy per label: 0.0785\n"
     ]
    },
    {
     "data": {
      "text/plain": [
       "(0.21780538302277433, 0.12362565445026177, 0.07853403141361257)"
      ]
     },
     "execution_count": 42,
     "metadata": {},
     "output_type": "execute_result"
    }
   ],
   "source": [
    "# Treniranje KNN\n",
    "image_model, scaler = train_image_knn(x_train_img, y_train_img)\n",
    "\n",
    "# Skaliranje validation i test setova\n",
    "X_val_scaled = scaler.transform(x_val_img)\n",
    "X_test_scaled = scaler.transform(x_test_img)\n",
    "\n",
    "# Predikcije\n",
    "val_preds_img = image_model.predict(X_val_scaled)\n",
    "test_preds_img = image_model.predict(X_test_scaled)\n",
    "\n",
    "# Evaluacija\n",
    "evaluate_model(y_val_img, val_preds_img, \"Image Model - Validation\")\n",
    "evaluate_model(y_test_img, test_preds_img, \"Image Model - Test\")"
   ]
  },
  {
   "cell_type": "markdown",
   "id": "79c786d9",
   "metadata": {},
   "source": [
    "### 3.3 Čuvanje image modela i features"
   ]
  },
  {
   "cell_type": "code",
   "execution_count": 43,
   "id": "18d1f712",
   "metadata": {},
   "outputs": [
    {
     "name": "stdout",
     "output_type": "stream",
     "text": [
      "✓ Image model i features saved\n"
     ]
    }
   ],
   "source": [
    "# Čuvanje features\n",
    "np.savez(\"data/processed/image_features.npz\",\n",
    "         X_train=x_train_img, Y_train=y_train_img,\n",
    "         X_val=x_val_img, Y_val=y_val_img,\n",
    "         X_test=x_test_img, Y_test=y_test_img)\n",
    "\n",
    "# Čuvanje modela\n",
    "save_image_model(image_model, \"models/image_knn_model.pkl\")\n",
    "\n",
    "print(\"✓ Image model i features saved\")"
   ]
  },
  {
   "cell_type": "markdown",
   "id": "ae075453",
   "metadata": {},
   "source": [
    "## 4. Late Fusion Model\n",
    "Kombinujemo predikcije text i image modela kroz ponderisano усрењавање probability vrednosti.\n",
    "Alpha parametar kontroliše koliki uticaj ima svaki model (alpha=0.6 znači 60% text, 40% image)."
   ]
  },
  {
   "cell_type": "code",
   "execution_count": 44,
   "id": "9312d85f",
   "metadata": {},
   "outputs": [
    {
     "name": "stdout",
     "output_type": "stream",
     "text": [
      "\n",
      "============================================================\n",
      "FUSION MODEL - Combining Text and Image Predictions\n",
      "============================================================\n",
      "Fusion parameters: alpha=0.6, threshold=0.5\n"
     ]
    }
   ],
   "source": [
    "print(\"\\n\" + \"=\"*60)\n",
    "print(\"FUSION MODEL - Combining Text and Image Predictions\")\n",
    "print(\"=\"*60)\n",
    "\n",
    "# Parametri fusion modela\n",
    "alpha = 0.6  # Težina za text model\n",
    "threshold = 0.5  # Threshold za binarnu klasifikaciju\n",
    "\n",
    "print(f\"Fusion parameters: alpha={alpha}, threshold={threshold}\")"
   ]
  },
  {
   "cell_type": "markdown",
   "id": "2ff4a1e7",
   "metadata": {},
   "source": [
    "### 4.1 Generisanje probability predikcija\n",
    "Koristimo `predict_proba` metod oba modela da dobijemo probability ocene umesto binarnih predikcija."
   ]
  },
  {
   "cell_type": "code",
   "execution_count": 45,
   "id": "5be72ac8",
   "metadata": {},
   "outputs": [
    {
     "name": "stdout",
     "output_type": "stream",
     "text": [
      "Probability shapes - Text: (764, 20), Image: (764, 20)\n"
     ]
    }
   ],
   "source": [
    "# Text model probabilities\n",
    "text_val_probs = text_model.predict_proba(x_val_tfidf)\n",
    "text_test_probs = text_model.predict_proba(x_test_tfidf)\n",
    "\n",
    "# Image model probabilities\n",
    "image_val_probs = image_model.predict_proba(X_val_scaled)\n",
    "image_test_probs = image_model.predict_proba(X_test_scaled)\n",
    "\n",
    "print(f\"Probability shapes - Text: {text_val_probs.shape}, Image: {image_val_probs.shape}\")"
   ]
  },
  {
   "cell_type": "markdown",
   "id": "650c7c15",
   "metadata": {},
   "source": [
    "### 4.2 Fusion i finalne predikcije\n",
    "Kombinujemo probabilities i primenjujemo threshold da dobijemo binarne predikcije."
   ]
  },
  {
   "cell_type": "code",
   "execution_count": 46,
   "id": "a3f7827a",
   "metadata": {},
   "outputs": [],
   "source": [
    "# Late fusion\n",
    "fused_val_probs = late_fusion(text_val_probs, image_val_probs, alpha=alpha)\n",
    "fused_test_probs = late_fusion(text_test_probs, image_test_probs, alpha=alpha)\n",
    "\n",
    "# Threshold predictions\n",
    "val_preds_fusion = predict_multilabel(fused_val_probs, threshold)\n",
    "test_preds_fusion = predict_multilabel(fused_test_probs, threshold)"
   ]
  },
  {
   "cell_type": "markdown",
   "id": "95d47c02",
   "metadata": {},
   "source": [
    "### 4.3 Evaluacija fusion modela\n",
    "Uporedimo performanse fusion modela sa pojedinačnim modelima."
   ]
  },
  {
   "cell_type": "code",
   "execution_count": 47,
   "id": "8c9c97b7",
   "metadata": {},
   "outputs": [
    {
     "name": "stdout",
     "output_type": "stream",
     "text": [
      "\n",
      "--- Fusion Model - Validation metrics ---\n",
      "F1-score (micro): 0.2975\n",
      "Hamming loss: 0.0992\n",
      "Accuracy per label: 0.1073\n",
      "\n",
      "--- Fusion Model - Test metrics ---\n",
      "F1-score (micro): 0.2605\n",
      "Hamming loss: 0.1048\n",
      "Accuracy per label: 0.1099\n"
     ]
    },
    {
     "data": {
      "text/plain": [
       "(0.2605080831408776, 0.10477748691099477, 0.1099476439790576)"
      ]
     },
     "execution_count": 47,
     "metadata": {},
     "output_type": "execute_result"
    }
   ],
   "source": [
    "evaluate_model(y_val, val_preds_fusion, \"Fusion Model - Validation\")\n",
    "evaluate_model(y_test, test_preds_fusion, \"Fusion Model - Test\")"
   ]
  },
  {
   "cell_type": "markdown",
   "id": "1e438a01",
   "metadata": {},
   "source": [
    "## 5. Finalna Poređenja Modela\n",
    "Rezime svih modela radi lakšeg poređenja performansi."
   ]
  },
  {
   "cell_type": "code",
   "execution_count": 48,
   "id": "2c22943e",
   "metadata": {},
   "outputs": [
    {
     "name": "stdout",
     "output_type": "stream",
     "text": [
      "FINAL MODEL COMPARISON (Test Set)\n",
      "============================================================\n",
      "       Model  F1-Score  Hamming Loss  Accuracy\n",
      "  Text Model  0.463292      0.104777  0.153141\n",
      " Image Model  0.217805      0.123626  0.078534\n",
      "Fusion Model  0.260508      0.104777  0.109948\n"
     ]
    }
   ],
   "source": [
    "print(\"FINAL MODEL COMPARISON (Test Set)\")\n",
    "print(\"=\"*60)\n",
    "\n",
    "models_results = {\n",
    "    \"Text Model\": test_preds,\n",
    "    \"Image Model\": test_preds_img,\n",
    "    \"Fusion Model\": test_preds_fusion\n",
    "}\n",
    "\n",
    "results = []\n",
    "for model_name, predictions in models_results.items():\n",
    "    f1 = f1_score(y_test, predictions, average=\"micro\", zero_division=0)\n",
    "    hamming = hamming_loss(y_test, predictions)\n",
    "    acc = accuracy_score(y_test, predictions)\n",
    "    results.append({\n",
    "        \"Model\": model_name,\n",
    "        \"F1-Score\": f1,\n",
    "        \"Hamming Loss\": hamming,\n",
    "        \"Accuracy\": acc\n",
    "    })\n",
    "\n",
    "comparison_df = pd.DataFrame(results)\n",
    "print(comparison_df.to_string(index=False))"
   ]
  },
  {
   "cell_type": "markdown",
   "id": "d1d39bd2",
   "metadata": {},
   "source": [
    "## 6. Zaključak\n",
    "Pipeline je kompletan! Sve modeli su trenirani i sačuvani:\n",
    "- **Text Model**: `models/text_nb_model.pkl`\n",
    "- **Image Model**: `models/image_knn_model.pkl`\n",
    "- **Features**: `data/processed/` direktorijum\n",
    "\n",
    "Fusion model kombinuje najbolje od oba pristupa i obično daje najbolje rezultate za multi-label klasifikaciju filmskih žanrova."
   ]
  }
 ],
 "metadata": {
  "kernelspec": {
   "display_name": "Python 3",
   "language": "python",
   "name": "python3"
  },
  "language_info": {
   "codemirror_mode": {
    "name": "ipython",
    "version": 3
   },
   "file_extension": ".py",
   "mimetype": "text/x-python",
   "name": "python",
   "nbconvert_exporter": "python",
   "pygments_lexer": "ipython3",
   "version": "3.12.10"
  }
 },
 "nbformat": 4,
 "nbformat_minor": 5
}
